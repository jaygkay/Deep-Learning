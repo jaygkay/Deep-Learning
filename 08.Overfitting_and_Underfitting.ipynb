{
 "cells": [
  {
   "cell_type": "markdown",
   "metadata": {},
   "source": [
    "## 08. Overfitting and Underfitting "
   ]
  },
  {
   "cell_type": "markdown",
   "metadata": {},
   "source": [
    "### 1. Over-Fitting\n",
    "\n",
    "It occurs when the model performs very well on the train-set, but the model does not perform worse on the validation-set ex) train: 90%, but validation: 80%\n",
    "- High Variance\n",
    "- Reason: the model does not learn other various patterns from the train-set\n",
    "- Solution: \n",
    "    - Collect more train-data\n",
    "    - Regulize the weights to avoid a dependency of the train-set"
   ]
  },
  {
   "cell_type": "markdown",
   "metadata": {},
   "source": [
    "### 2. Under-Fitting\n",
    "It occurs when there is no huge-performance-difference between the train and validation, but they do not peform very well\n",
    "- High Bias\n",
    "- Reason: the model is too simple to capture the patterns\n",
    "- Solution: \n",
    "    - develop the model more complex\n",
    "    - relieve the weights' regulizations"
   ]
  },
  {
   "cell_type": "markdown",
   "metadata": {},
   "source": [
    "### 3. Bias-Variance Trade-Off\n",
    "- Making sacrifices for one, to earn the other\n",
    "    - If reduce the Bias (=peformance on train-set increases), then high Variance (= big diff between validation and train)\n",
    "    - If reduce the Variance (= reduce the gap between validation and train), then high Bias (= performance on train-set reduced)\n",
    "    \n",
    "- Therefore, it is important to find an optima point"
   ]
  },
  {
   "cell_type": "markdown",
   "metadata": {},
   "source": [
    "### 4. SingleLayer_tradeoff Class"
   ]
  },
  {
   "cell_type": "code",
   "execution_count": 42,
   "metadata": {},
   "outputs": [],
   "source": [
    "class SingleLayer_tradeoff:\n",
    "    def __init__(self, learning_rate = 0.1):\n",
    "        self.w = None\n",
    "        self.b = None\n",
    "        self.loss = []\n",
    "        self.val_loss = []\n",
    "        self.w_history = []\n",
    "        self.lr = learning_rate\n",
    "    \n",
    "    def fwrd(self, x):\n",
    "        z = np.sum(x * self.w) + self.b\n",
    "        return z\n",
    "    \n",
    "    def activation(self, z):\n",
    "        a = 1 / (1 + np.exp(-z))\n",
    "        return a\n",
    "    \n",
    "    def bwrd(self, x, err):\n",
    "        w_grad = x * err\n",
    "        b_grad = 1 * err\n",
    "        return w_grad, b_grad\n",
    "    \n",
    "    def update_val_loss(self, x_val, y_val):\n",
    "        if x_val is None:\n",
    "            return\n",
    "        val_loss = 0\n",
    "        for i in range(len(x_val)):\n",
    "            z = self.fwrd(x_val[i])\n",
    "            a = self.activation(z)\n",
    "            a = np.clip(a, 1e-10, 1-1e-10)\n",
    "            val_loss += -(y_val[i]*np.log(a) + (1-y)*np.log(1-a))\n",
    "        self.val_loss.append(val_loss / len(y_val))\n",
    "        \n",
    "    def fit(self, x, y, epochs = 100, x_val = None, y_val = None):\n",
    "        self.w = np.ones(x.shape[1])\n",
    "        self.b = 0\n",
    "        self.w_history.append(self.w.copy())\n",
    "        np.random.seed(42)\n",
    "        for i in range(epochs):\n",
    "            loss = 0\n",
    "            indexes = np.random.permutation(np.arange(len(x)))\n",
    "            for i in indexes:\n",
    "                z = self.fwrd(x[i])\n",
    "                a = self.activation(z)\n",
    "                err = -(y[i] - a)\n",
    "                w_grad, b_grad = self.bwrd(x[i], err)\n",
    "                self.w -= self.lr * w_grad\n",
    "                self.b -= b_grad\n",
    "                self.w_history.append(self.w.copy())\n",
    "                a = np.clip(a, 1e-10, 1-1e-10)\n",
    "                loss += -(y[i]*np.log(a) + (1-y)*np.log(1-a))\n",
    "            self.loss.append(loss / len(y))\n",
    "            self.update_val_loss(x_val, y_val)\n",
    "                \n",
    "    def predict(self, x):\n",
    "        z = [self.fwrd(xi) for xi in x]\n",
    "        return np.array(z) > 0\n",
    "    \n",
    "    def score(self, x, y):\n",
    "        return np.mean(self.predict(x) == y)"
   ]
  },
  {
   "cell_type": "markdown",
   "metadata": {},
   "source": [
    "### 5. Load the data"
   ]
  },
  {
   "cell_type": "code",
   "execution_count": 33,
   "metadata": {},
   "outputs": [
    {
     "name": "stdout",
     "output_type": "stream",
     "text": [
      "(455, 30) (114, 30) (455,) (114,)\n"
     ]
    }
   ],
   "source": [
    "from sklearn.datasets import load_breast_cancer\n",
    "from sklearn.model_selection import train_test_split\n",
    "cancer = load_breast_cancer()\n",
    "x = cancer.data\n",
    "y = cancer.target\n",
    "x_train_all, x_test, y_train_all, y_test = train_test_split(x, y, stratify = y, \n",
    "                                                            test_size = 0.2, random_state = 42)\n",
    "print(x_train_all.shape, x_test.shape, y_train_all.shape, y_test.shape)"
   ]
  },
  {
   "cell_type": "code",
   "execution_count": 34,
   "metadata": {},
   "outputs": [
    {
     "name": "stdout",
     "output_type": "stream",
     "text": [
      "(364, 30) (91, 30) (364,) (91,)\n"
     ]
    }
   ],
   "source": [
    "x_train, x_val, y_train, y_val = train_test_split(x_train_all, y_train_all, stratify = y_train_all,\n",
    "                                                  test_size = 0.2, random_state = 42)\n",
    "print(x_train.shape, x_val.shape, y_train.shape, y_val.shape)"
   ]
  },
  {
   "cell_type": "markdown",
   "metadata": {},
   "source": [
    "### 6. Scaling"
   ]
  },
  {
   "cell_type": "code",
   "execution_count": 46,
   "metadata": {},
   "outputs": [],
   "source": [
    "import numpy as np\n",
    "import matplotlib.pyplot as plt\n",
    "%matplotlib inline\n",
    "from sklearn.preprocessing import StandardScaler\n",
    "scaler = StandardScaler()\n",
    "scaler.fit(x_train)\n",
    "x_train_scaled = scaler.transform(x_train)\n",
    "x_val_scaled = scaler.transform(x_val)"
   ]
  },
  {
   "cell_type": "markdown",
   "metadata": {},
   "source": [
    "### 7. Modeling"
   ]
  },
  {
   "cell_type": "code",
   "execution_count": 44,
   "metadata": {},
   "outputs": [
    {
     "data": {
      "text/plain": [
       "0.989010989010989"
      ]
     },
     "execution_count": 44,
     "metadata": {},
     "output_type": "execute_result"
    }
   ],
   "source": [
    "layer = SingleLayer_tradeoff()\n",
    "layer.fit(x_train_scaled, y_train, x_val= x_val_scaled, y_val = y_val)\n",
    "layer.score(x_train_scaled, y_train)"
   ]
  },
  {
   "cell_type": "markdown",
   "metadata": {},
   "source": [
    "### 8. Trade-off\n",
    "- it looks like the point at 22 epoch will be a right point"
   ]
  },
  {
   "cell_type": "code",
   "execution_count": 37,
   "metadata": {},
   "outputs": [
    {
     "data": {
      "image/png": "[encoded data removed]",
      "text/plain": [
       "<Figure size 432x288 with 1 Axes>"
      ]
     },
     "metadata": {
      "needs_background": "light"
     },
     "output_type": "display_data"
    }
   ],
   "source": [
    "plt.plot(layer.loss)\n",
    "plt.plot(layer.val_loss)\n",
    "plt.ylim(0, 0.3)\n",
    "plt.xlabel('epochs')\n",
    "plt.ylabel('loss')\n",
    "plt.legend(['train_loss', 'val_loss'])\n",
    "plt.show()"
   ]
  },
  {
   "cell_type": "markdown",
   "metadata": {},
   "source": [
    "### 9. Modeling with Early Stopping"
   ]
  },
  {
   "cell_type": "code",
   "execution_count": 45,
   "metadata": {},
   "outputs": [
    {
     "data": {
      "text/plain": [
       "0.978021978021978"
      ]
     },
     "execution_count": 45,
     "metadata": {},
     "output_type": "execute_result"
    }
   ],
   "source": [
    "layer1 = SingleLayer_tradeoff()\n",
    "layer1.fit(x_train_scaled, y_train, epochs = 22)\n",
    "layer1.score(x_val_scaled, y_val)"
   ]
  },
  {
   "cell_type": "code",
   "execution_count": null,
   "metadata": {},
   "outputs": [],
   "source": []
  }
 ],
 "metadata": {
  "kernelspec": {
   "display_name": "Python 3",
   "language": "python",
   "name": "python3"
  },
  "language_info": {
   "codemirror_mode": {
    "name": "ipython",
    "version": 3
   },
   "file_extension": ".py",
   "mimetype": "text/x-python",
   "name": "python",
   "nbconvert_exporter": "python",
   "pygments_lexer": "ipython3",
   "version": "3.7.3"
  }
 },
 "nbformat": 4,
 "nbformat_minor": 2
}
