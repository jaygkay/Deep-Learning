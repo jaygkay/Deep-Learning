{
 "cells": [
  {
   "cell_type": "markdown",
   "metadata": {},
   "source": [
    "## Logistic Regressive Single Neural Network\n",
    "- Input Layer\n",
    "- Hidden Layer\n",
    "- Output Layer"
   ]
  },
  {
   "cell_type": "code",
   "execution_count": 1,
   "metadata": {},
   "outputs": [],
   "source": [
    "import numpy as np"
   ]
  },
  {
   "cell_type": "markdown",
   "metadata": {},
   "source": [
    "### 1. __init()__ 메서드에 Loss Function 결과를 저장할 리스트 만들기"
   ]
  },
  {
   "cell_type": "code",
   "execution_count": 2,
   "metadata": {},
   "outputs": [],
   "source": [
    "def __init__(self):\n",
    "    self.w = None\n",
    "    self.b = None\n",
    "    self.loss = []"
   ]
  },
  {
   "cell_type": "markdown",
   "metadata": {},
   "source": [
    "### 2. 정방향과 역방향 계산"
   ]
  },
  {
   "cell_type": "code",
   "execution_count": 3,
   "metadata": {},
   "outputs": [],
   "source": [
    "def fwrd(self, x):\n",
    "    z =  np.sum(x * self.w) + self.b\n",
    "    return z\n",
    "\n",
    "def bwrd(self, x, err):\n",
    "    w_grad = x * err\n",
    "    b_grad = 1 * err\n",
    "    return w_grad, b_grad"
   ]
  },
  {
   "cell_type": "markdown",
   "metadata": {},
   "source": [
    "### 3. activation"
   ]
  },
  {
   "cell_type": "code",
   "execution_count": 4,
   "metadata": {},
   "outputs": [],
   "source": [
    "def activation(self, z):\n",
    "    a = 1 / (1 + np.exp(-z))\n",
    "    return a"
   ]
  },
  {
   "cell_type": "markdown",
   "metadata": {},
   "source": [
    "### 4. 손실 함수의 결과값 조정"
   ]
  },
  {
   "cell_type": "markdown",
   "metadata": {},
   "source": [
    "#### 4-1. 매 epoch마다 훈련 세트의 샘플 순서를 섞어 사용하기\n",
    "- 모든 경사하강법들은 매 epoch마다 훈련 세트의 샘플 순서를 섞어 가중치의 최적값을 계산한다\n",
    "- 훈련 세트의 샘플 순서를 섞으면 가중치 최적값의 탐색 과정이 다양해져 가중치 최적값을 제대로 찾을 수 있다\n",
    "- 이를 위한 전형적인 방법은 numpy 배열의 index를 섞은 후 index 순서대로 샘플을 뽑는 것 (번호표를 따로 섞은 다음 번호표 순서대로 훈련 세트를 나열)\n",
    "- np.random.permutation()을 사용"
   ]
  },
  {
   "cell_type": "markdown",
   "metadata": {},
   "source": [
    "#### 4-2. self.activation() 메서드로 계산한 a는 np.log()의 계산을 위해 한 번 더 조정\n",
    "- a가 0에 가까워지면 np.log()함수의 값은 음의 무한대가 되고 \n",
    "- a가 1에 가까워지면 np.log()함수의 값은 0이 되기 때문\n",
    "- 따라서, 손실값이 무한해지면 정확한 계산을 할 수 없으므로 a의 값이 $$(-1*10^{-10}, 1 - 1 * 10^{10})$$ 사이가 되도록 np.clip() 함수로 조정\n",
    "- np.clip(): 주어진 범위 밖의 값을 범위 양 끝의 값으로 잘라냄"
   ]
  },
  {
   "cell_type": "markdown",
   "metadata": {},
   "source": [
    "#### 4-3. self.loss에 저장\n",
    "- 샘플마다 손실 함수를 계산하고 그 결과를 모두 더한 다음 샘플 개수로 나눈 평균값 저장"
   ]
  },
  {
   "cell_type": "code",
   "execution_count": 5,
   "metadata": {},
   "outputs": [],
   "source": [
    "def fit(self, x, y, epochs = 100):\n",
    "    self.w = np.ones(x.shape[1])\n",
    "    self.b = 0\n",
    "    \n",
    "    for i in range(epochs):\n",
    "        loss = 0\n",
    "        # [4-1]: index 섞기\n",
    "        indexes = np.random.permutation(np.arange(len(x))) # 인덱스를 섞음\n",
    "        for i in indexes:\n",
    "            z = self.fwrd(x[i])\n",
    "            a = self.activation(z)\n",
    "            err = -(y[i] - a)\n",
    "            w_grad, b_grad = self.bwrd(x[i], err)\n",
    "            self.w -= w_grad\n",
    "            self.b -= b_grad\n",
    "        # [4-2]: np.clip으로 주어진 밖의 값을 제거함\n",
    "            a = np.clip(a, 1e-10, 1-1e-10)\n",
    "            loss += -(y[i] * np.log(a) + (1 - y[i]) * np.log(1 - a))\n",
    "        # [4-3]: self.loss에 저장\n",
    "        self.loss.append(loss/len(y))"
   ]
  },
  {
   "cell_type": "markdown",
   "metadata": {},
   "source": [
    "### 5. predict()와 score() 메서드 추가\n",
    "- predict():\n",
    "    - z > 0.5 == (sigmoid > 0.5)\n",
    "    - z < 0.5 == (sigmoid < 0.5)\n",
    "    - predict()메서드에 굳이 sigmoid 추가 하지 않음\n",
    "- score(): 정확도를 직접 계산하기 위함"
   ]
  },
  {
   "cell_type": "code",
   "execution_count": 6,
   "metadata": {},
   "outputs": [],
   "source": [
    "def predict(self, x):\n",
    "    z = [self.fwrd(x_i) for x_i in x] # 정방향 계산\n",
    "    return np.array(z) > 0 # 임계 함수 (계단 함수 적용)\n",
    "\n",
    "def score(self, x, y):\n",
    "    return np.mean(self.predict(x) == y)"
   ]
  },
  {
   "cell_type": "markdown",
   "metadata": {},
   "source": [
    "### 6. 지금까지 작성한 코드 클래스화 하기"
   ]
  },
  {
   "cell_type": "code",
   "execution_count": 7,
   "metadata": {},
   "outputs": [],
   "source": [
    "class SingleLayer:\n",
    "\n",
    "    def __init__(self):\n",
    "        self.w = None\n",
    "        self.b = None\n",
    "        self.loss = []\n",
    "\n",
    "    def fwrd(self, x):\n",
    "        z =  np.sum(x * self.w) + self.b\n",
    "        return z\n",
    "\n",
    "    def bwrd(self, x, err):\n",
    "        w_grad = x * err\n",
    "        b_grad = 1 * err\n",
    "        return w_grad, b_grad\n",
    "\n",
    "    def activation(self, z):\n",
    "        a = 1 / (1 + np.exp(-z))\n",
    "        return a\n",
    "\n",
    "    def fit(self, x, y, epochs = 100):\n",
    "        self.w = np.ones(x.shape[1])\n",
    "        self.b = 0\n",
    "\n",
    "        for i in range(epochs):\n",
    "            loss = 0\n",
    "            # [4-1]: index 섞기\n",
    "            indexes = np.random.permutation(np.arange(len(x))) # 인덱스를 섞음\n",
    "            for i in indexes:\n",
    "                z = self.fwrd(x[i])\n",
    "                a = self.activation(z)\n",
    "                err = -(y[i] - a)\n",
    "                w_grad, b_grad = self.bwrd(x[i], err)\n",
    "                self.w -= w_grad\n",
    "                self.b -= b_grad\n",
    "            # [4-2]: np.clip으로 주어진 밖의 값을 제거함\n",
    "                a = np.clip(a, 1e-10, 1-1e-10)\n",
    "                loss += -(y[i] * np.log(a) + (1 - y[i]) * np.log(1 - a))\n",
    "            # [4-3]: self.loss에 저장\n",
    "            self.loss.append(loss/len(y))\n",
    "\n",
    "    def predict(self, x):\n",
    "        z = [self.fwrd(x_i) for x_i in x] # 정방향 계산\n",
    "        return np.array(z) > 0 # 임계 함수 (계단 함수 적용)\n",
    "\n",
    "    def score(self, x, y):\n",
    "        return np.mean(self.predict(x) == y)"
   ]
  },
  {
   "cell_type": "markdown",
   "metadata": {},
   "source": [
    "### 7. 유방암 데이터에 적용"
   ]
  },
  {
   "cell_type": "code",
   "execution_count": 8,
   "metadata": {},
   "outputs": [],
   "source": [
    "from sklearn.datasets import load_breast_cancer\n",
    "cancer = load_breast_cancer()\n",
    "x = cancer.data\n",
    "y = cancer.target"
   ]
  },
  {
   "cell_type": "code",
   "execution_count": 12,
   "metadata": {},
   "outputs": [
    {
     "name": "stdout",
     "output_type": "stream",
     "text": [
      "x: (381, 30) (188, 30)\n",
      "y: (381,) (188,)\n"
     ]
    }
   ],
   "source": [
    "from sklearn.model_selection import train_test_split\n",
    "x_train, x_test, y_train, y_test = train_test_split(x, y, test_size = 0.33, random_state = 42)\n",
    "print('x:', x_train.shape, x_test.shape)\n",
    "print('y:', y_train.shape, y_test.shape)"
   ]
  },
  {
   "cell_type": "code",
   "execution_count": 13,
   "metadata": {},
   "outputs": [
    {
     "data": {
      "text/plain": [
       "0.9680851063829787"
      ]
     },
     "execution_count": 13,
     "metadata": {},
     "output_type": "execute_result"
    }
   ],
   "source": [
    "layer = SingleLayer()\n",
    "layer.fit(x_train, y_train)\n",
    "layer.score(x_test, y_test)"
   ]
  },
  {
   "cell_type": "markdown",
   "metadata": {},
   "source": [
    "### 8. 손실 함수 누적 값 확인하기"
   ]
  },
  {
   "cell_type": "code",
   "execution_count": 14,
   "metadata": {},
   "outputs": [
    {
     "data": {
      "image/png": "[encoded data removed]",
      "text/plain": [
       "<Figure size 432x288 with 1 Axes>"
      ]
     },
     "metadata": {
      "needs_background": "light"
     },
     "output_type": "display_data"
    }
   ],
   "source": [
    "import matplotlib.pyplot as plt\n",
    "plt.plot(layer.loss)\n",
    "plt.xlabel('epoch')\n",
    "plt.ylabel('loss')\n",
    "plt.show()"
   ]
  },
  {
   "cell_type": "markdown",
   "metadata": {},
   "source": [
    "Epoch가 진행 됨에 따라 Logistic Loss function의 값이 감소 하고 있음을 확인 함"
   ]
  },
  {
   "cell_type": "code",
   "execution_count": null,
   "metadata": {},
   "outputs": [],
   "source": []
  }
 ],
 "metadata": {
  "kernelspec": {
   "display_name": "Python 3",
   "language": "python",
   "name": "python3"
  },
  "language_info": {
   "codemirror_mode": {
    "name": "ipython",
    "version": 3
   },
   "file_extension": ".py",
   "mimetype": "text/x-python",
   "name": "python",
   "nbconvert_exporter": "python",
   "pygments_lexer": "ipython3",
   "version": "3.7.3"
  }
 },
 "nbformat": 4,
 "nbformat_minor": 2
}
