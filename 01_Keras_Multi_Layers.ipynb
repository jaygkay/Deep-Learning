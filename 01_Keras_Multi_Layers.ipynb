{
 "cells": [
  {
   "cell_type": "markdown",
   "metadata": {},
   "source": [
    "### softmax를 이용하여 다중 클래스 분류"
   ]
  },
  {
   "cell_type": "code",
   "execution_count": 1,
   "metadata": {},
   "outputs": [
    {
     "name": "stderr",
     "output_type": "stream",
     "text": [
      "Using TensorFlow backend.\n"
     ]
    }
   ],
   "source": [
    "import numpy as np\n",
    "from keras.models import Sequential\n",
    "from keras.layers import Dense, Activation\n",
    "from keras.optimizers import SGD\n",
    "from sklearn.utils import shuffle\n",
    "import matplotlib.pyplot as plt"
   ]
  },
  {
   "cell_type": "markdown",
   "metadata": {},
   "source": [
    "### 1. Generating Random Data"
   ]
  },
  {
   "cell_type": "code",
   "execution_count": 2,
   "metadata": {},
   "outputs": [],
   "source": [
    "M = 2 # input_dim\n",
    "K = 3 # number of classes\n",
    "n = 100 # number of data in each class\n",
    "N = n * K # Total number of data"
   ]
  },
  {
   "cell_type": "code",
   "execution_count": 3,
   "metadata": {},
   "outputs": [],
   "source": [
    "X1 = np.random.randn(n, M) + np.array([0, 10])\n",
    "X2 = np.random.randn(n, M) + np.array([5, 5])\n",
    "X3 = np.random.randn(n, M) + np.array([10, 0])\n",
    "Y1 = np.array([[1, 0, 0] for i in range(n)])\n",
    "Y2 = np.array([[0, 1, 0] for i in range(n)])\n",
    "Y3 = np.array([[0, 0, 1] for i in range(n)])\n",
    "\n",
    "X = np.concatenate((X1, X2, X3), axis=0)\n",
    "Y = np.concatenate((Y1, Y2, Y3), axis=0)"
   ]
  },
  {
   "cell_type": "code",
   "execution_count": 4,
   "metadata": {},
   "outputs": [
    {
     "data": {
      "image/png": "[encoded data removed]",
      "text/plain": [
       "<Figure size 432x288 with 1 Axes>"
      ]
     },
     "metadata": {
      "needs_background": "light"
     },
     "output_type": "display_data"
    }
   ],
   "source": [
    "for i in X:\n",
    "    plt.scatter(i[0], i[1])"
   ]
  },
  {
   "cell_type": "markdown",
   "metadata": {},
   "source": [
    "### 2. Modeling with Keras"
   ]
  },
  {
   "cell_type": "markdown",
   "metadata": {},
   "source": [
    "Sequential(): 계층 구조를 이루는 모델을 정의\n",
    "- 미리 계층 구조 모델을 정의하고 add()로 층을 계속 추가 함\n",
    "Dense(): 입력차원과 출력차원인 네트워크 구조를 이루는 층을 생성\n",
    "- input_dim = 입력 차원\n",
    "- units = 출력 차원\n",
    "\n",
    "Activation(): 활성 함수를 표현하는 층\n",
    "- sigmoid, softmax, etc..\n",
    "\n",
    "compile(): 학습 방식에 대한 환경 설정\n",
    "- optimizer = 정규화기\n",
    "- loss = 손실 함수 (모델이 최적화에 사용되는 목적 함수)\n",
    "- metrics = 기준 리스트 (분류에서는 metrics = ['accuracy'])"
   ]
  },
  {
   "cell_type": "code",
   "execution_count": 5,
   "metadata": {},
   "outputs": [],
   "source": [
    "# Sequential(): 계층 구조를 이루는 모델을 정의\n",
    "model = Sequential() \n",
    "# Dense(): 입력차원과 출력차원인 네트워크 구조를 이루는 층을 생성\n",
    "# input_dim = 입력 차원\n",
    "# units  = \n",
    "model.add(Dense(input_dim = M, units = K)) \n",
    "model.add(Activation('softmax'))\n",
    "model.compile(loss = 'categorical_crossentropy', optimizer = SGD(lr = 0.1))"
   ]
  },
  {
   "cell_type": "markdown",
   "metadata": {},
   "source": [
    "### 3. Learn the model"
   ]
  },
  {
   "cell_type": "code",
   "execution_count": 6,
   "metadata": {},
   "outputs": [
    {
     "name": "stdout",
     "output_type": "stream",
     "text": [
      "WARNING:tensorflow:From /Users/jaygykay/anaconda3/lib/python3.7/site-packages/keras/backend/tensorflow_backend.py:422: The name tf.global_variables is deprecated. Please use tf.compat.v1.global_variables instead.\n",
      "\n",
      "Epoch 1/20\n",
      "300/300 [==============================] - 0s 400us/step - loss: 0.9994\n",
      "Epoch 2/20\n",
      "300/300 [==============================] - 0s 37us/step - loss: 0.1355\n",
      "Epoch 3/20\n",
      "300/300 [==============================] - 0s 23us/step - loss: 0.1042\n",
      "Epoch 4/20\n",
      "300/300 [==============================] - 0s 24us/step - loss: 0.0878\n",
      "Epoch 5/20\n",
      "300/300 [==============================] - 0s 27us/step - loss: 0.0775\n",
      "Epoch 6/20\n",
      "300/300 [==============================] - 0s 33us/step - loss: 0.0680\n",
      "Epoch 7/20\n",
      "300/300 [==============================] - 0s 23us/step - loss: 0.0617\n",
      "Epoch 8/20\n",
      "300/300 [==============================] - 0s 34us/step - loss: 0.0561\n",
      "Epoch 9/20\n",
      "300/300 [==============================] - 0s 30us/step - loss: 0.0521\n",
      "Epoch 10/20\n",
      "300/300 [==============================] - 0s 32us/step - loss: 0.0485\n",
      "Epoch 11/20\n",
      "300/300 [==============================] - 0s 31us/step - loss: 0.0451\n",
      "Epoch 12/20\n",
      "300/300 [==============================] - 0s 28us/step - loss: 0.0425\n",
      "Epoch 13/20\n",
      "300/300 [==============================] - 0s 29us/step - loss: 0.0401\n",
      "Epoch 14/20\n",
      "300/300 [==============================] - 0s 28us/step - loss: 0.0384\n",
      "Epoch 15/20\n",
      "300/300 [==============================] - 0s 44us/step - loss: 0.0367\n",
      "Epoch 16/20\n",
      "300/300 [==============================] - 0s 43us/step - loss: 0.0347\n",
      "Epoch 17/20\n",
      "300/300 [==============================] - 0s 31us/step - loss: 0.0333\n",
      "Epoch 18/20\n",
      "300/300 [==============================] - 0s 48us/step - loss: 0.0320\n",
      "Epoch 19/20\n",
      "300/300 [==============================] - 0s 47us/step - loss: 0.0309\n",
      "Epoch 20/20\n",
      "300/300 [==============================] - 0s 40us/step - loss: 0.0296\n"
     ]
    },
    {
     "data": {
      "text/plain": [
       "<keras.callbacks.callbacks.History at 0xa45d68f28>"
      ]
     },
     "execution_count": 6,
     "metadata": {},
     "output_type": "execute_result"
    }
   ],
   "source": [
    "minibatch = 50\n",
    "model.fit(X, Y, epochs = 20, batch_size = minibatch)"
   ]
  },
  {
   "cell_type": "markdown",
   "metadata": {},
   "source": [
    "### 4. Result\n",
    "\n",
    "10개만 확인해보기"
   ]
  },
  {
   "cell_type": "code",
   "execution_count": 7,
   "metadata": {},
   "outputs": [
    {
     "name": "stdout",
     "output_type": "stream",
     "text": [
      "classified: [ True  True  True  True  True  True  True  True  True  True]\n",
      "probability: [[9.9569869e-01 4.3012928e-03 2.2380110e-08]\n",
      " [1.7549260e-08 2.7396759e-02 9.7260314e-01]\n",
      " [9.9890673e-01 1.0932616e-03 5.2332687e-11]\n",
      " [2.3358362e-03 9.9158889e-01 6.0751853e-03]\n",
      " [9.9012297e-01 9.8769777e-03 5.7000102e-09]\n",
      " [2.2540214e-11 1.5015239e-03 9.9849844e-01]\n",
      " [2.9727507e-09 4.2791576e-03 9.9572092e-01]\n",
      " [9.7359180e-01 2.6408179e-02 3.1308140e-08]\n",
      " [9.8023248e-01 1.9767372e-02 8.3141146e-08]\n",
      " [9.9013317e-01 9.8669156e-03 4.7293280e-09]]\n"
     ]
    }
   ],
   "source": [
    "x_, y_ = shuffle(X, Y)\n",
    "classes = model.predict_classes(x_[0:10], batch_size = minibatch)\n",
    "prob = model.predict_proba(x_[0:10], batch_size = minibatch)\n",
    "print('classified:', np.argmax(model.predict(x_[0:10]), axis = 1)==classes)\n",
    "print('probability:', prob)"
   ]
  },
  {
   "cell_type": "code",
   "execution_count": null,
   "metadata": {},
   "outputs": [],
   "source": []
  }
 ],
 "metadata": {
  "kernelspec": {
   "display_name": "Python 3",
   "language": "python",
   "name": "python3"
  },
  "language_info": {
   "codemirror_mode": {
    "name": "ipython",
    "version": 3
   },
   "file_extension": ".py",
   "mimetype": "text/x-python",
   "name": "python",
   "nbconvert_exporter": "python",
   "pygments_lexer": "ipython3",
   "version": "3.7.3"
  }
 },
 "nbformat": 4,
 "nbformat_minor": 2
}
