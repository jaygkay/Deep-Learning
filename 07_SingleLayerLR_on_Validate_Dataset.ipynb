{
 "cells": [
  {
   "cell_type": "markdown",
   "metadata": {},
   "source": [
    "## Training a model and its know-how"
   ]
  },
  {
   "cell_type": "markdown",
   "metadata": {},
   "source": [
    "### 1. Tuning the Model on Test-set"
   ]
  },
  {
   "cell_type": "markdown",
   "metadata": {},
   "source": [
    "In general, dataset is split into a train-set and test-set\n",
    "- train-set: be utilized to fit the model\n",
    "- test-set: be utilized to test the performance of the model\n",
    "\n",
    "The purpose of the utilization of Test-set is to avoid building a model that only fits to the specific dataset"
   ]
  },
  {
   "cell_type": "markdown",
   "metadata": {},
   "source": [
    "#### 1-1. Creating a Logistic Regression model"
   ]
  },
  {
   "cell_type": "code",
   "execution_count": 1,
   "metadata": {},
   "outputs": [],
   "source": [
    "from sklearn.datasets import load_breast_cancer\n",
    "from sklearn.model_selection import train_test_split\n",
    "cancer = load_breast_cancer()\n",
    "x = cancer.data\n",
    "y = cancer.target\n",
    "x_train, x_test, y_train, y_test = train_test_split(x, y, stratify = y, test_size = 0.2, random_state = 42)"
   ]
  },
  {
   "cell_type": "code",
   "execution_count": 2,
   "metadata": {},
   "outputs": [
    {
     "data": {
      "text/plain": [
       "0.8333333333333334"
      ]
     },
     "execution_count": 2,
     "metadata": {},
     "output_type": "execute_result"
    }
   ],
   "source": [
    "from sklearn.linear_model import SGDClassifier\n",
    "sgd = SGDClassifier(loss = 'log', random_state = 42)\n",
    "sgd.fit(x_train, y_train)\n",
    "sgd.score(x_test, y_test)"
   ]
  },
  {
   "cell_type": "markdown",
   "metadata": {},
   "source": [
    "The accuracy of the testset is 83%.\n",
    "\n",
    "In the case, the accuracy is not prefarable, other Loss Functions could be replaced to its original Loss Function, *log loss function*"
   ]
  },
  {
   "cell_type": "markdown",
   "metadata": {},
   "source": [
    "#### 1-2. Check if the performance gets improved by changing the loss function\n",
    "- change from **Logistic Regression (Log Loss Function)** to **SVM (Hinge Loss Function)**"
   ]
  },
  {
   "cell_type": "code",
   "execution_count": 3,
   "metadata": {},
   "outputs": [
    {
     "data": {
      "text/plain": [
       "0.9385964912280702"
      ]
     },
     "execution_count": 3,
     "metadata": {},
     "output_type": "execute_result"
    }
   ],
   "source": [
    "sgd = SGDClassifier(loss = 'hinge', random_state = 42)\n",
    "sgd.fit(x_train, y_train)\n",
    "sgd.score(x_test, y_test)"
   ]
  },
  {
   "cell_type": "markdown",
   "metadata": {},
   "source": [
    "The performance gets better.\n",
    "\n",
    "In the case of the model does not perform as expected, you can change the loss function to others.\n",
    "\n",
    "This procedure is called **_Tuning a model_**"
   ]
  },
  {
   "cell_type": "markdown",
   "metadata": {},
   "source": [
    "**However**, if you tune the model on the test-set, the model works better only on the test-set\n",
    "\n",
    "- It is expressed _\"the information of the test-set is leaked\"_\n",
    "\n",
    "**Therefore,** it is hard to generalize the model"
   ]
  },
  {
   "cell_type": "code",
   "execution_count": null,
   "metadata": {},
   "outputs": [],
   "source": []
  },
  {
   "cell_type": "code",
   "execution_count": null,
   "metadata": {},
   "outputs": [],
   "source": []
  },
  {
   "cell_type": "markdown",
   "metadata": {},
   "source": [
    "### 2. Preparing a Validate-set\n",
    "\n",
    "How to tune the model, then?\n",
    "\n",
    "Tune the model on validate-set\n",
    "\n",
    "- validate-set: a small amount of the train-set"
   ]
  },
  {
   "cell_type": "markdown",
   "metadata": {},
   "source": [
    "#### 2-1. Splitting dataset into Train-set and Test-set"
   ]
  },
  {
   "cell_type": "code",
   "execution_count": 4,
   "metadata": {},
   "outputs": [
    {
     "name": "stdout",
     "output_type": "stream",
     "text": [
      "x original: (569, 30)\n",
      "x_train: (455, 30) \tx_test: (114, 30)\n",
      "y_train: (455,) \ty_test: (114,)\n"
     ]
    }
   ],
   "source": [
    "cancer = load_breast_cancer()\n",
    "x = cancer.data\n",
    "y = cancer.target\n",
    "print('x original:',x.shape)\n",
    "x_train, x_test, y_train, y_test = train_test_split(x, y, stratify = y, test_size = 0.2, random_state = 42)\n",
    "print('x_train:', x_train.shape, '\\tx_test:',x_test.shape)\n",
    "print('y_train:', y_train.shape, '\\ty_test:', y_test.shape)"
   ]
  },
  {
   "cell_type": "markdown",
   "metadata": {},
   "source": [
    "original data is split into 455 train-set and 114 test-set"
   ]
  },
  {
   "cell_type": "code",
   "execution_count": 5,
   "metadata": {},
   "outputs": [
    {
     "data": {
      "text/plain": [
       "569"
      ]
     },
     "execution_count": 5,
     "metadata": {},
     "output_type": "execute_result"
    }
   ],
   "source": [
    "455 + 114"
   ]
  },
  {
   "cell_type": "markdown",
   "metadata": {},
   "source": [
    "#### 2-2. Splitting the Train-set into train_set and validate_set"
   ]
  },
  {
   "cell_type": "code",
   "execution_count": 6,
   "metadata": {},
   "outputs": [
    {
     "name": "stdout",
     "output_type": "stream",
     "text": [
      "x_train: (455, 30)\n",
      "new_x_train: (364, 30) \tx_validate: (91, 30)\n",
      "new_y_train: (364,) \ty_validate: (91,)\n"
     ]
    }
   ],
   "source": [
    "new_x_train, x_validate, new_y_train, y_validate = train_test_split(x_train, y_train, stratify = y_train, \n",
    "                                                                    test_size = 0.2, random_state = 42)\n",
    "print('x_train:', x_train.shape)\n",
    "print('new_x_train:', new_x_train.shape, '\\tx_validate:',x_validate.shape)\n",
    "print('new_y_train:', new_y_train.shape, '\\ty_validate:', y_validate.shape)"
   ]
  },
  {
   "cell_type": "markdown",
   "metadata": {},
   "source": [
    "x_train is split into 364 new_x_train-set and 91 x_validate-set"
   ]
  },
  {
   "cell_type": "code",
   "execution_count": 7,
   "metadata": {},
   "outputs": [
    {
     "data": {
      "text/plain": [
       "455"
      ]
     },
     "execution_count": 7,
     "metadata": {},
     "output_type": "execute_result"
    }
   ],
   "source": [
    "364 + 91"
   ]
  },
  {
   "cell_type": "markdown",
   "metadata": {},
   "source": [
    "#### 2-3. Check the performance of the model by tuning on validate-set"
   ]
  },
  {
   "cell_type": "code",
   "execution_count": 8,
   "metadata": {},
   "outputs": [
    {
     "data": {
      "text/plain": [
       "0.6923076923076923"
      ]
     },
     "execution_count": 8,
     "metadata": {},
     "output_type": "execute_result"
    }
   ],
   "source": [
    "sgd = SGDClassifier(loss = 'log', random_state = 42)\n",
    "sgd.fit(new_x_train, new_y_train)\n",
    "sgd.score(x_validate, y_validate)"
   ]
  },
  {
   "cell_type": "markdown",
   "metadata": {},
   "source": [
    "OOOOOPS, the performance gets worse\n",
    "\n",
    "Why?\n",
    "\n",
    "The amount of the data-set is pretty small..\n",
    "\n",
    "**Therefore**, \n",
    "\n",
    "- when the amount of the dataset is over 100,000, split the data into 8:1:1\n",
    "- when the amount of the dataset is over 1,000,000, split the data into 98:1:1"
   ]
  },
  {
   "cell_type": "code",
   "execution_count": null,
   "metadata": {},
   "outputs": [],
   "source": []
  },
  {
   "cell_type": "code",
   "execution_count": null,
   "metadata": {},
   "outputs": [],
   "source": []
  },
  {
   "cell_type": "markdown",
   "metadata": {},
   "source": [
    "### 3. Data Preprocessing and Scalling"
   ]
  },
  {
   "cell_type": "markdown",
   "metadata": {},
   "source": [
    "Gradient Descent is very sensitive to the scale\n",
    "- **thus**, you need to scale before modeling"
   ]
  },
  {
   "cell_type": "markdown",
   "metadata": {},
   "source": [
    "#### 3-1. Example of the performance on un-scale-data\n",
    "- as an example, feature 3 and feature 4 will be utilized\n",
    "- since their scales are too different"
   ]
  },
  {
   "cell_type": "code",
   "execution_count": 9,
   "metadata": {},
   "outputs": [
    {
     "data": {
      "image/png": "[encoded data removed]",
      "text/plain": [
       "<Figure size 432x288 with 1 Axes>"
      ]
     },
     "metadata": {
      "needs_background": "light"
     },
     "output_type": "display_data"
    }
   ],
   "source": [
    "import matplotlib.pyplot as plt\n",
    "%matplotlib inline\n",
    "\n",
    "plt.boxplot(cancer.data)\n",
    "plt.xlabel('feature')\n",
    "plt.ylabel('value')\n",
    "plt.show()"
   ]
  },
  {
   "cell_type": "code",
   "execution_count": 10,
   "metadata": {},
   "outputs": [
    {
     "name": "stdout",
     "output_type": "stream",
     "text": [
      "['mean perimeter' 'mean area']\n"
     ]
    },
    {
     "data": {
      "image/png": "[encoded data removed]",
      "text/plain": [
       "<Figure size 432x288 with 1 Axes>"
      ]
     },
     "metadata": {
      "needs_background": "light"
     },
     "output_type": "display_data"
    }
   ],
   "source": [
    "print(cancer.feature_names[[2,3]])\n",
    "plt.boxplot(x_train[:, 2:4])\n",
    "plt.xlabel('feature')\n",
    "plt.ylabel('value')\n",
    "plt.show()"
   ]
  },
  {
   "cell_type": "markdown",
   "metadata": {},
   "source": [
    "#### 3-2. Gradient Descent on the un-scaled-data\n",
    "\n",
    "learning_rate: the amount of the weight update (log scale is generally used: 0.001, 0.01, etc..)\n",
    "- large lr: high risk to pass global minimum\n",
    "- small lr: high cost for learning a model\n",
    "- proper lr: no chance to pass the global minumum but work pretty fast"
   ]
  },
  {
   "cell_type": "code",
   "execution_count": null,
   "metadata": {},
   "outputs": [],
   "source": []
  },
  {
   "cell_type": "code",
   "execution_count": null,
   "metadata": {},
   "outputs": [],
   "source": []
  },
  {
   "cell_type": "markdown",
   "metadata": {},
   "source": [
    "### 4. Single Layer with learning rate"
   ]
  },
  {
   "cell_type": "code",
   "execution_count": 11,
   "metadata": {},
   "outputs": [],
   "source": [
    "import numpy as np"
   ]
  },
  {
   "cell_type": "code",
   "execution_count": 12,
   "metadata": {},
   "outputs": [],
   "source": [
    "class SingleLayerLR:\n",
    "    def __init__(self, learning_rate = 0.1):\n",
    "        self.w = None                                                 # initiate a weight\n",
    "        self.b = None                                                 # initiate a bias\n",
    "        self.loss = []                                                # append a loss\n",
    "        self.w_history = []                                           # append learning_rate\n",
    "        self.lr = learning_rate\n",
    "\n",
    "    def fwrd(self, x):\n",
    "        z = np.sum(x * self.w + self.b)\n",
    "        return z\n",
    "\n",
    "    def bwrd(self, x, err):\n",
    "        w_grad = x * err\n",
    "        b_grad = 1 * err\n",
    "        return w_grad, b_grad\n",
    "\n",
    "    def activation(self, z):\n",
    "        a = 1 / (1 + np.exp(-z))\n",
    "        return a\n",
    "\n",
    "    def fit(self, x, y, epochs = 100):\n",
    "        self.w = np.ones(x.shape[1])                                  # initiate a weight\n",
    "        self.b = 0                                                    # initiage a bias\n",
    "        self.w_history.append(self.w.copy())                          # record the weight\n",
    "\n",
    "        for i in range(epochs):                                       # iterate the learning as many as the size of the epochs\n",
    "            loss = 0\n",
    "            indexes = np.random.permutation(np.arange(len(x)))        # shuffle the index\n",
    "            for i in indexes:                                         # interate for all samples\n",
    "                z = self.fwrd(x[i])                                   # forward\n",
    "                a = self.activation(z)                                # activation\n",
    "                err = - (y[i] - a)                                    # compute the error\n",
    "                w_grad, b_grad = self.bwrd(x[i], err)                 # backward\n",
    "                self.w -= self.lr * w_grad                            # update the weight\n",
    "                self.b -= b_grad                                      # update the bias\n",
    "                self.w_history.append(self.w.copy())                  # record the wieght\n",
    "                a = np.clip(a, 1e-10, 1-1e-10)                        # range setting for a safe log calculation\n",
    "                loss += -(y[i] * np.log(a) + (1-y[i]) * np.log(1- a)) # update the loss\n",
    "            self.loss.append(loss / len(y))                           # record loss every epoch\n",
    "\n",
    "    def predict(self, x):\n",
    "        z = [self.fwrd(xi) for xi in x]\n",
    "        return np.array(z) > 0\n",
    "\n",
    "    def score(self, x, y):\n",
    "        return np.mean(self.predict(x)==y)"
   ]
  },
  {
   "cell_type": "code",
   "execution_count": 13,
   "metadata": {},
   "outputs": [
    {
     "data": {
      "text/plain": [
       "0.9120879120879121"
      ]
     },
     "execution_count": 13,
     "metadata": {},
     "output_type": "execute_result"
    }
   ],
   "source": [
    "layer = SingleLayerLR()\n",
    "layer.fit(new_x_train, new_y_train)\n",
    "layer.score(x_validate, y_validate)"
   ]
  },
  {
   "cell_type": "markdown",
   "metadata": {},
   "source": [
    "#### 4-1. Check How the Learning Rate has changed"
   ]
  },
  {
   "cell_type": "code",
   "execution_count": 14,
   "metadata": {},
   "outputs": [
    {
     "data": {
      "image/png": "[encoded data removed]",
      "text/plain": [
       "<Figure size 432x288 with 1 Axes>"
      ]
     },
     "metadata": {
      "needs_background": "light"
     },
     "output_type": "display_data"
    }
   ],
   "source": [
    "lst1 = []\n",
    "lst2 = []\n",
    "for w in layer.w_history:\n",
    "    lst1.append(w[2])\n",
    "    lst2.append(w[3])\n",
    "plt.plot(lst1, lst2)\n",
    "plt.plot(lst1[-1], lst2[-1], 'ro')\n",
    "plt.xlabel('feature 3: mean perimeter')\n",
    "plt.ylabel('feature 4: mean area')\n",
    "plt.show()"
   ]
  },
  {
   "cell_type": "markdown",
   "metadata": {},
   "source": [
    "as seen in the plot, \n",
    "\n",
    "since the scale of the *mean area* is greater than *mean perimeter*, **mean area is highly fluctuating during the learning**\n",
    "\n",
    "**Thus**, it is unstable to find an optimum"
   ]
  },
  {
   "cell_type": "markdown",
   "metadata": {},
   "source": [
    "#### 4-2. Learning by adjusting a scale\n",
    "- Standardization $$z = \\frac{(x-\\mu)}{s}$$\n"
   ]
  },
  {
   "cell_type": "code",
   "execution_count": 15,
   "metadata": {},
   "outputs": [],
   "source": [
    "train_mean = np.mean(new_x_train, axis = 0)\n",
    "train_std = np.std(new_x_train, axis = 0)\n",
    "x_train_scaled = (new_x_train - train_mean) / train_std"
   ]
  },
  {
   "cell_type": "markdown",
   "metadata": {},
   "source": [
    "#### 4-3. Modeling"
   ]
  },
  {
   "cell_type": "code",
   "execution_count": 16,
   "metadata": {},
   "outputs": [
    {
     "data": {
      "image/png": "[encoded data removed]",
      "text/plain": [
       "<Figure size 432x288 with 1 Axes>"
      ]
     },
     "metadata": {
      "needs_background": "light"
     },
     "output_type": "display_data"
    }
   ],
   "source": [
    "layer2 = SingleLayerLR()\n",
    "layer2.fit(x_train_scaled, new_y_train)\n",
    "lst1 = []\n",
    "lst2 = []\n",
    "for w in layer2.w_history:\n",
    "    lst1.append(w[2])\n",
    "    lst2.append(w[3])\n",
    "plt.plot(lst1, lst2)\n",
    "plt.plot(lst1[-1], lst2[-1], 'ro')\n",
    "plt.show()"
   ]
  },
  {
   "cell_type": "markdown",
   "metadata": {},
   "source": [
    "Since the scale of two feature are similar, their weight moves like the diagnal line"
   ]
  },
  {
   "cell_type": "markdown",
   "metadata": {},
   "source": [
    "#### 4-4. Performance"
   ]
  },
  {
   "cell_type": "code",
   "execution_count": 17,
   "metadata": {},
   "outputs": [
    {
     "data": {
      "text/plain": [
       "0.37362637362637363"
      ]
     },
     "execution_count": 17,
     "metadata": {},
     "output_type": "execute_result"
    }
   ],
   "source": [
    "layer2.score(x_validate, y_validate)"
   ]
  },
  {
   "cell_type": "markdown",
   "metadata": {},
   "source": [
    "Why the performance is bad?\n",
    "- Only changed the scales of the train-set\n",
    "- **Therefore**, change the scales of the Validate-set too"
   ]
  },
  {
   "cell_type": "markdown",
   "metadata": {},
   "source": [
    "#### 4-5. Scaling the validate-set"
   ]
  },
  {
   "cell_type": "code",
   "execution_count": 18,
   "metadata": {},
   "outputs": [
    {
     "data": {
      "text/plain": [
       "0.978021978021978"
      ]
     },
     "execution_count": 18,
     "metadata": {},
     "output_type": "execute_result"
    }
   ],
   "source": [
    "val_mean = np.mean(x_validate, axis = 0)\n",
    "val_std = np.std(x_validate, axis=  0)\n",
    "x_validate_scaled = (x_validate - val_mean) / val_std\n",
    "layer2.score(x_validate_scaled, y_validate)"
   ]
  },
  {
   "cell_type": "code",
   "execution_count": null,
   "metadata": {},
   "outputs": [],
   "source": []
  },
  {
   "cell_type": "code",
   "execution_count": null,
   "metadata": {},
   "outputs": [],
   "source": []
  },
  {
   "cell_type": "markdown",
   "metadata": {},
   "source": [
    "### 5. The Common Mistake of the Scaling train-set and validate-set"
   ]
  },
  {
   "cell_type": "markdown",
   "metadata": {},
   "source": [
    "#### 5-1. original x_train and x_validate plot"
   ]
  },
  {
   "cell_type": "code",
   "execution_count": 19,
   "metadata": {},
   "outputs": [
    {
     "data": {
      "image/png": "[encoded data removed]",
      "text/plain": [
       "<Figure size 432x288 with 1 Axes>"
      ]
     },
     "metadata": {
      "needs_background": "light"
     },
     "output_type": "display_data"
    }
   ],
   "source": [
    "plt.plot(new_x_train[:50, 0], new_x_train[:50, 1], 'bo')\n",
    "plt.plot(x_validate[:50, 0], x_validate[:50, 1], 'ro')\n",
    "plt.plot([20,20,22.5, 22.5, 20],[19,23,23,19,19], 'y')\n",
    "plt.xlabel('feature 1')\n",
    "plt.ylabel('feature 2')\n",
    "plt.legend(['train set', 'validate set'])\n",
    "plt.show()"
   ]
  },
  {
   "cell_type": "markdown",
   "metadata": {},
   "source": [
    "#### 5-2. scaled x_train and x_validate plot"
   ]
  },
  {
   "cell_type": "code",
   "execution_count": 20,
   "metadata": {},
   "outputs": [
    {
     "data": {
      "image/png": "[encoded data removed]",
      "text/plain": [
       "<Figure size 432x288 with 1 Axes>"
      ]
     },
     "metadata": {
      "needs_background": "light"
     },
     "output_type": "display_data"
    }
   ],
   "source": [
    "plt.plot(x_train_scaled[:50, 0], x_train_scaled[:50, 1], 'bo')\n",
    "plt.plot(x_validate_scaled[:50, 0], x_validate_scaled[:50, 1], 'ro')\n",
    "plt.plot([1.7,1.7, 2.4, 2.4, 1.7],[-0.1,0.9,0.9,-0.1,-0.1], 'y')\n",
    "plt.xlabel('feature 1')\n",
    "plt.ylabel('feature 2')\n",
    "plt.legend(['train set', 'validate set'])\n",
    "plt.show()"
   ]
  },
  {
   "cell_type": "markdown",
   "metadata": {},
   "source": [
    "#### 5-3. Mistakes and tricks"
   ]
  },
  {
   "cell_type": "markdown",
   "metadata": {},
   "source": [
    "the distributions of the plots are supposed to be tatally same after scaling too\n",
    "- the yellow squared box showed that the dots are little bit different and other points are slightly different\n",
    "\n",
    "Why is it that?\n",
    "- Because scaled with different ratio\n",
    "- **therefore**, when you scaled train and validate sets, scale with the same ratio\n",
    "- **thus**, use **train_mean** and **train_std** when scaling on validate-set\n",
    "\n",
    "[4-5] implemented as follow:\n",
    "\n",
    "val_mean = np.mean(x_validate, axis = 0)\n",
    "\n",
    "val_std = np.std(x_validate, axis=  0)\n",
    "\n",
    "x_validate_scaled = (x_validate - val_mean) / val_std\n",
    "\n",
    "layer2.score(x_validate_scaled, y_validate)"
   ]
  },
  {
   "cell_type": "markdown",
   "metadata": {},
   "source": [
    "#### 5-4. RIGHT WAY to scale the validate-set"
   ]
  },
  {
   "cell_type": "code",
   "execution_count": 21,
   "metadata": {},
   "outputs": [
    {
     "data": {
      "image/png": "[encoded data removed]",
      "text/plain": [
       "<Figure size 432x288 with 1 Axes>"
      ]
     },
     "metadata": {
      "needs_background": "light"
     },
     "output_type": "display_data"
    }
   ],
   "source": [
    "x_val_scaled = (x_validate - train_mean) / train_std\n",
    "plt.plot(x_train_scaled[:50, 0], x_train_scaled[:50, 1], 'bo')\n",
    "plt.plot(x_val_scaled[:50, 0], x_val_scaled[:50, 1], 'ro')\n",
    "plt.plot([1.7,1.7, 2.4, 2.4, 1.7],[-0.1,0.9,0.9,-0.1,-0.1], 'y')\n",
    "plt.xlabel('feature 1')\n",
    "plt.ylabel('feature 2')\n",
    "plt.legend(['train set', 'validate set'])\n",
    "plt.show()"
   ]
  },
  {
   "cell_type": "markdown",
   "metadata": {},
   "source": [
    "now, the dots in the yellow box are the same from the yellow box at [5-1]"
   ]
  },
  {
   "cell_type": "markdown",
   "metadata": {},
   "source": [
    "#### 5-5. Performance\n",
    "- comapre with the score at [4-5]\n",
    "- should be the same since the amount of the dataset is pretty small\n",
    "- if you have a bigger dataset, the result would be slightly different"
   ]
  },
  {
   "cell_type": "code",
   "execution_count": 22,
   "metadata": {},
   "outputs": [
    {
     "data": {
      "text/plain": [
       "0.978021978021978"
      ]
     },
     "execution_count": 22,
     "metadata": {},
     "output_type": "execute_result"
    }
   ],
   "source": [
    "layer2.score(x_val_scaled, y_validate)"
   ]
  },
  {
   "cell_type": "code",
   "execution_count": null,
   "metadata": {},
   "outputs": [],
   "source": []
  }
 ],
 "metadata": {
  "kernelspec": {
   "display_name": "Python 3",
   "language": "python",
   "name": "python3"
  },
  "language_info": {
   "codemirror_mode": {
    "name": "ipython",
    "version": 3
   },
   "file_extension": ".py",
   "mimetype": "text/x-python",
   "name": "python",
   "nbconvert_exporter": "python",
   "pygments_lexer": "ipython3",
   "version": "3.7.3"
  }
 },
 "nbformat": 4,
 "nbformat_minor": 2
}
